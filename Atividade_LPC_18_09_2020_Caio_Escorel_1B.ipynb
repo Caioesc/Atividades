{
  "nbformat": 4,
  "nbformat_minor": 0,
  "metadata": {
    "colab": {
      "name": "Atividade LPC - 18/09/2020 - Caio Escorel - 1B",
      "provenance": [],
      "authorship_tag": "ABX9TyMwKZtrf2NiHjcA+0T2f5aT",
      "include_colab_link": true
    },
    "kernelspec": {
      "name": "python3",
      "display_name": "Python 3"
    }
  },
  "cells": [
    {
      "cell_type": "markdown",
      "metadata": {
        "id": "view-in-github",
        "colab_type": "text"
      },
      "source": [
        "<a href=\"https://colab.research.google.com/github/Caioesc/Atividades/blob/master/Atividade_LPC_18_09_2020_Caio_Escorel_1B.ipynb\" target=\"_parent\"><img src=\"https://colab.research.google.com/assets/colab-badge.svg\" alt=\"Open In Colab\"/></a>"
      ]
    },
    {
      "cell_type": "code",
      "metadata": {
        "id": "iS735ov7ErUI",
        "colab_type": "code",
        "colab": {
          "base_uri": "https://localhost:8080/",
          "height": 119
        },
        "outputId": "01cf4794-ebfa-4c70-c1de-81a3db00dcb3"
      },
      "source": [
        "#Questão 1\n",
        "#print(\"Caio Escorel Heráclio Lopes Fernandes\")\n",
        "\n",
        "#Questão 2\n",
        "#def contagemregressiva(n=5):\n",
        "#  while(n):\n",
        "#    print(n)\n",
        "#    n = n - 1\n",
        "#contagemregressiva(5)\n",
        "#print('já!!')\n",
        "\n",
        "\n"
      ],
      "execution_count": 17,
      "outputs": [
        {
          "output_type": "stream",
          "text": [
            "5\n",
            "4\n",
            "3\n",
            "2\n",
            "1\n",
            "já!!\n"
          ],
          "name": "stdout"
        }
      ]
    }
  ]
}