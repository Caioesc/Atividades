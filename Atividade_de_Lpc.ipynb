{
  "nbformat": 4,
  "nbformat_minor": 0,
  "metadata": {
    "colab": {
      "name": "Atividade de Lpc.ipynb",
      "provenance": [],
      "collapsed_sections": [],
      "authorship_tag": "ABX9TyNNDQz9pnnEn62zahWtfxz2",
      "include_colab_link": true
    },
    "kernelspec": {
      "name": "python3",
      "display_name": "Python 3"
    }
  },
  "cells": [
    {
      "cell_type": "markdown",
      "metadata": {
        "id": "view-in-github",
        "colab_type": "text"
      },
      "source": [
        "<a href=\"https://colab.research.google.com/github/Caioesc/Atividades/blob/master/Atividade_de_Lpc.ipynb\" target=\"_parent\"><img src=\"https://colab.research.google.com/assets/colab-badge.svg\" alt=\"Open In Colab\"/></a>"
      ]
    },
    {
      "cell_type": "code",
      "metadata": {
        "id": "Y9rt4ewhBXuI",
        "colab_type": "code",
        "colab": {
          "base_uri": "https://localhost:8080/",
          "height": 51
        },
        "outputId": "847479b6-eae2-4b49-a9f9-9b1e830a017c"
      },
      "source": [
        "#ETE PORTO DIGITAL\n",
        "#LPC - Introdução a Python\n",
        "#Prof. Cloves Rocha\n",
        "#Estudante: Caio Escorel\n",
        "#Turma: 1 ano B\n",
        "\n",
        "#Questão 1: Faça um Programa que mostre a mensagem \"Olá mundo\" na tela.\n",
        "#print ('Olá mundo')\n",
        "\n",
        "#Questão 2: Faça um Programa que peça um número e então mostre a mensagem O número informado foi [número] \n",
        "\n",
        "#numero = input ('Digite um número')\n",
        "#print (f'O número informado foi: {numero}')\n",
        "\n",
        "#Questão 3: Faça um Programa que peça dois números e imprima a soma.\n",
        "\n",
        "#num1 = int = input ('Digite o primeiro número :')\n",
        "#num2 = int = input ('Digite o segundo número:')\n",
        "#x = num1\n",
        "#y = num2\n",
        "#print (x + y)\n",
        "\n",
        "#Questão 4: Faça um Programa que peça as 4 notas bimestrais e mostre a média.\n",
        "#numero1 = float(input('Notas do bimestre 1:'))\n",
        "#numero2 = float(input('Notas do bimestre 2:'))\n",
        "#numero3 = float(input('Notas do bimestre 3:'))\n",
        "#numero4 = float(input('Notas do bimestre 4:'))\n",
        "#print ('A sua média foi:', (numero1+numero2+numero3+numero4)/4)\n",
        "\n",
        "#Questão 5: Faça um Programa que converta metros para centímetros\n",
        "\n",
        "#metro = float(input('Digite uma medida em metros: '))\n",
        "#cent = metro * 100\n",
        "#print(f'{metro} metros convertido para centímetros é igual a {cent} centímetros.')\n",
        "\n",
        "#Questão 6: Faça um Programa que peça o raio de um círculo, calcule e mostre sua área.\n",
        "\n",
        "#raio= input ('Digite o raio:')\n",
        "#pi = 3.14 \n",
        "#area = pi * (raio**2) \n",
        "#print ('O resultado é,area')\n",
        "\n",
        "#Questão 7: Faça um Programa que calcule a área de um quadrado, em seguida mostre o dobro desta área para o usuário.\n",
        "\n",
        "#a= float (input(\"Qual o comprimento do lado A\"))\n",
        "#b= float (input(\"Qual o comprimento do lado B\"))\n",
        "#c= (a*b)\n",
        "#d= (c*2)\n",
        "#print ('A area do quadrado e', c)\n",
        "#print ('O dobro da area do quadrado e', d)\n",
        "\n",
        "#Questão 8 : Faça um Programa que pergunte quanto você ganha por hora e o número de horas trabalhadas no mês. Calcule e mostre o total do seu salário no referido mês.\n",
        "\n",
        "#valor_recebido_por_hora = float(input('Digite o quanto você recebe por hora: '))\n",
        "#horas_trabalhadas = int(input('Quantas horas você trabalha diariamente? '))\n",
        "#salario = (valor_recebido_por_hora * horas_trabalhadas) * 23\n",
        "#print (f'O seu salário é igual a R${salario}')\n",
        "\n",
        "#Questão 9: Faça um Programa que peça um valor e mostre na tela se o valor é positivo ou negativo.\n",
        "\n",
        "#num = float(input('Digite um número: '))\n",
        "#if num > 0:\n",
        "#  print('Este número é positivo')\n",
        "#else:\n",
        "#   print('Este número é negativo')\n",
        "\n",
        "#Questão 10: Faça um Programa que verifique se uma letra digitada é \"F\" ou \"M\". Conforme a letra escrever: F - Feminino, M - Masculino, Sexo Inválido.\n",
        "\n",
        "#nome = input('Digite seu nome: ')\n",
        "#sexo = input('Digite seu sexo : ')\n",
        "#if sexo == 'm':\n",
        "#    print(f'{nome} é do sexo Masculino')\n",
        "#elif sexo == 'f':\n",
        "#    print(f'{nome} é do sexo Feminino')\n",
        "#else:\n",
        "#    print('Sexo Inválido.')\n",
        "\n",
        "#Questão 11: Faça um Programa que verifique se uma letra digitada é vogal ou consoante.\n",
        "\n",
        "#letra = input('Digite uma letra: ')\n",
        "#if letra in 'aeiou':\n",
        "#    print(f'{letra} é uma vogal.')\n",
        "#else:\n",
        "#    print(f'{letra} é uma consoante.')\n",
        "\n",
        "\n",
        "#Obs1: Alguns códigos por algum motivo só funcionaram no pycharm, mas reselvi colocalos aqui para que ficassem todos juntos.\n",
        "#Obs2: Na questão 3 meu código ao invés de somar os números, ele fazia a junção dos números, teria como o senhor explicar qual erro eu cometi no código? Obrigado desde já.\n",
        "\n",
        "\n",
        "\n",
        "\n"
      ],
      "execution_count": null,
      "outputs": [
        {
          "output_type": "stream",
          "text": [
            "Digite uma letra: f\n",
            "f é uma consoante.\n"
          ],
          "name": "stdout"
        }
      ]
    }
  ]
}